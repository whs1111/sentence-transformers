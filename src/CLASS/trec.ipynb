{
  "nbformat": 4,
  "nbformat_minor": 0,
  "metadata": {
    "colab": {
      "name": "Untitled1.ipynb",
      "provenance": [],
      "include_colab_link": true
    },
    "kernelspec": {
      "name": "python3",
      "display_name": "Python 3"
    },
    "accelerator": "GPU"
  },
  "cells": [
    {
      "cell_type": "markdown",
      "metadata": {
        "id": "view-in-github",
        "colab_type": "text"
      },
      "source": [
        "<a href=\"https://colab.research.google.com/github/whs1111/sentence-transformers/blob/master/src/CLASS/trec.ipynb\" target=\"_parent\"><img src=\"https://colab.research.google.com/assets/colab-badge.svg\" alt=\"Open In Colab\"/></a>"
      ]
    },
    {
      "cell_type": "code",
      "metadata": {
        "id": "QMb0U7ctSDcL",
        "colab_type": "code",
        "outputId": "fef9065e-3af9-4cf1-e61d-9c7bbe122a3c",
        "colab": {
          "base_uri": "https://localhost:8080/",
          "height": 122
        }
      },
      "source": [
        "from google.colab import drive\n",
        "\n",
        "drive.mount('/content/gdrive')"
      ],
      "execution_count": 1,
      "outputs": [
        {
          "output_type": "stream",
          "text": [
            "Go to this URL in a browser: https://accounts.google.com/o/oauth2/auth?client_id=947318989803-6bn6qk8qdgf4n4g3pfee6491hc0brc4i.apps.googleusercontent.com&redirect_uri=urn%3aietf%3awg%3aoauth%3a2.0%3aoob&response_type=code&scope=email%20https%3a%2f%2fwww.googleapis.com%2fauth%2fdocs.test%20https%3a%2f%2fwww.googleapis.com%2fauth%2fdrive%20https%3a%2f%2fwww.googleapis.com%2fauth%2fdrive.photos.readonly%20https%3a%2f%2fwww.googleapis.com%2fauth%2fpeopleapi.readonly\n",
            "\n",
            "Enter your authorization code:\n",
            "··········\n",
            "Mounted at /content/gdrive\n"
          ],
          "name": "stdout"
        }
      ]
    },
    {
      "cell_type": "code",
      "metadata": {
        "id": "orTnaAutSYb4",
        "colab_type": "code",
        "outputId": "72e7c455-8c21-4565-c8ba-163a07ef382b",
        "colab": {
          "base_uri": "https://localhost:8080/",
          "height": 34
        }
      },
      "source": [
        "cd gdrive/My Drive/Colab_Notebooks/code\n"
      ],
      "execution_count": 2,
      "outputs": [
        {
          "output_type": "stream",
          "text": [
            "/content/gdrive/My Drive/Colab_Notebooks/code\n"
          ],
          "name": "stdout"
        }
      ]
    },
    {
      "cell_type": "code",
      "metadata": {
        "id": "N4XFda_IIpeM",
        "colab_type": "code",
        "outputId": "6d5a3532-ddaa-49f5-89eb-5dc33fa6d538",
        "colab": {
          "base_uri": "https://localhost:8080/",
          "height": 768
        }
      },
      "source": [
        "!pip  install -U sentence-transformers"
      ],
      "execution_count": 4,
      "outputs": [
        {
          "output_type": "stream",
          "text": [
            "Collecting sentence-transformers\n",
            "\u001b[?25l  Downloading https://files.pythonhosted.org/packages/c9/91/c85ddef872d5bb39949386930c1f834ac382e145fcd30155b09d6fb65c5a/sentence-transformers-0.2.5.tar.gz (49kB)\n",
            "\r\u001b[K     |██████▋                         | 10kB 24.4MB/s eta 0:00:01\r\u001b[K     |█████████████▎                  | 20kB 29.2MB/s eta 0:00:01\r\u001b[K     |███████████████████▉            | 30kB 34.0MB/s eta 0:00:01\r\u001b[K     |██████████████████████████▌     | 40kB 35.1MB/s eta 0:00:01\r\u001b[K     |████████████████████████████████| 51kB 8.6MB/s \n",
            "\u001b[?25hCollecting transformers==2.3.0\n",
            "\u001b[?25l  Downloading https://files.pythonhosted.org/packages/50/10/aeefced99c8a59d828a92cc11d213e2743212d3641c87c82d61b035a7d5c/transformers-2.3.0-py3-none-any.whl (447kB)\n",
            "\r\u001b[K     |▊                               | 10kB 7.2MB/s eta 0:00:01\r\u001b[K     |█▌                              | 20kB 12.2MB/s eta 0:00:01\r\u001b[K     |██▏                             | 30kB 13.4MB/s eta 0:00:01\r\u001b[K     |███                             | 40kB 16.3MB/s eta 0:00:01\r\u001b[K     |███▋                            | 51kB 18.8MB/s eta 0:00:01\r\u001b[K     |████▍                           | 61kB 19.9MB/s eta 0:00:01\r\u001b[K     |█████▏                          | 71kB 21.3MB/s eta 0:00:01\r\u001b[K     |█████▉                          | 81kB 22.6MB/s eta 0:00:01\r\u001b[K     |██████▋                         | 92kB 23.2MB/s eta 0:00:01\r\u001b[K     |███████▎                        | 102kB 24.3MB/s eta 0:00:01\r\u001b[K     |████████                        | 112kB 24.3MB/s eta 0:00:01\r\u001b[K     |████████▉                       | 122kB 24.3MB/s eta 0:00:01\r\u001b[K     |█████████▌                      | 133kB 24.3MB/s eta 0:00:01\r\u001b[K     |██████████▎                     | 143kB 24.3MB/s eta 0:00:01\r\u001b[K     |███████████                     | 153kB 24.3MB/s eta 0:00:01\r\u001b[K     |███████████▊                    | 163kB 24.3MB/s eta 0:00:01\r\u001b[K     |████████████▌                   | 174kB 24.3MB/s eta 0:00:01\r\u001b[K     |█████████████▏                  | 184kB 24.3MB/s eta 0:00:01\r\u001b[K     |██████████████                  | 194kB 24.3MB/s eta 0:00:01\r\u001b[K     |██████████████▋                 | 204kB 24.3MB/s eta 0:00:01\r\u001b[K     |███████████████▍                | 215kB 24.3MB/s eta 0:00:01\r\u001b[K     |████████████████▏               | 225kB 24.3MB/s eta 0:00:01\r\u001b[K     |████████████████▉               | 235kB 24.3MB/s eta 0:00:01\r\u001b[K     |█████████████████▋              | 245kB 24.3MB/s eta 0:00:01\r\u001b[K     |██████████████████▎             | 256kB 24.3MB/s eta 0:00:01\r\u001b[K     |███████████████████             | 266kB 24.3MB/s eta 0:00:01\r\u001b[K     |███████████████████▊            | 276kB 24.3MB/s eta 0:00:01\r\u001b[K     |████████████████████▌           | 286kB 24.3MB/s eta 0:00:01\r\u001b[K     |█████████████████████▎          | 296kB 24.3MB/s eta 0:00:01\r\u001b[K     |██████████████████████          | 307kB 24.3MB/s eta 0:00:01\r\u001b[K     |██████████████████████▊         | 317kB 24.3MB/s eta 0:00:01\r\u001b[K     |███████████████████████▍        | 327kB 24.3MB/s eta 0:00:01\r\u001b[K     |████████████████████████▏       | 337kB 24.3MB/s eta 0:00:01\r\u001b[K     |█████████████████████████       | 348kB 24.3MB/s eta 0:00:01\r\u001b[K     |█████████████████████████▋      | 358kB 24.3MB/s eta 0:00:01\r\u001b[K     |██████████████████████████▍     | 368kB 24.3MB/s eta 0:00:01\r\u001b[K     |███████████████████████████     | 378kB 24.3MB/s eta 0:00:01\r\u001b[K     |███████████████████████████▉    | 389kB 24.3MB/s eta 0:00:01\r\u001b[K     |████████████████████████████▋   | 399kB 24.3MB/s eta 0:00:01\r\u001b[K     |█████████████████████████████▎  | 409kB 24.3MB/s eta 0:00:01\r\u001b[K     |██████████████████████████████  | 419kB 24.3MB/s eta 0:00:01\r\u001b[K     |██████████████████████████████▊ | 430kB 24.3MB/s eta 0:00:01\r\u001b[K     |███████████████████████████████▌| 440kB 24.3MB/s eta 0:00:01\r\u001b[K     |████████████████████████████████| 450kB 24.3MB/s \n",
            "\u001b[?25hRequirement already satisfied, skipping upgrade: tqdm in /usr/local/lib/python3.6/dist-packages (from sentence-transformers) (4.28.1)\n",
            "Requirement already satisfied, skipping upgrade: torch>=1.0.1 in /usr/local/lib/python3.6/dist-packages (from sentence-transformers) (1.4.0)\n",
            "Requirement already satisfied, skipping upgrade: numpy in /usr/local/lib/python3.6/dist-packages (from sentence-transformers) (1.17.5)\n",
            "Requirement already satisfied, skipping upgrade: scikit-learn in /usr/local/lib/python3.6/dist-packages (from sentence-transformers) (0.22.1)\n",
            "Requirement already satisfied, skipping upgrade: scipy in /usr/local/lib/python3.6/dist-packages (from sentence-transformers) (1.4.1)\n",
            "Requirement already satisfied, skipping upgrade: nltk in /usr/local/lib/python3.6/dist-packages (from sentence-transformers) (3.2.5)\n",
            "Requirement already satisfied, skipping upgrade: regex!=2019.12.17 in /usr/local/lib/python3.6/dist-packages (from transformers==2.3.0->sentence-transformers) (2019.12.20)\n",
            "Collecting sentencepiece\n",
            "\u001b[?25l  Downloading https://files.pythonhosted.org/packages/74/f4/2d5214cbf13d06e7cb2c20d84115ca25b53ea76fa1f0ade0e3c9749de214/sentencepiece-0.1.85-cp36-cp36m-manylinux1_x86_64.whl (1.0MB)\n",
            "\r\u001b[K     |▎                               | 10kB 29.2MB/s eta 0:00:01\r\u001b[K     |▋                               | 20kB 37.4MB/s eta 0:00:01\r\u001b[K     |█                               | 30kB 44.8MB/s eta 0:00:01\r\u001b[K     |█▎                              | 40kB 48.1MB/s eta 0:00:01\r\u001b[K     |█▋                              | 51kB 50.6MB/s eta 0:00:01\r\u001b[K     |██                              | 61kB 54.0MB/s eta 0:00:01\r\u001b[K     |██▏                             | 71kB 55.8MB/s eta 0:00:01\r\u001b[K     |██▌                             | 81kB 55.1MB/s eta 0:00:01\r\u001b[K     |██▉                             | 92kB 55.2MB/s eta 0:00:01\r\u001b[K     |███▏                            | 102kB 55.6MB/s eta 0:00:01\r\u001b[K     |███▌                            | 112kB 55.6MB/s eta 0:00:01\r\u001b[K     |███▉                            | 122kB 55.6MB/s eta 0:00:01\r\u001b[K     |████                            | 133kB 55.6MB/s eta 0:00:01\r\u001b[K     |████▍                           | 143kB 55.6MB/s eta 0:00:01\r\u001b[K     |████▊                           | 153kB 55.6MB/s eta 0:00:01\r\u001b[K     |█████                           | 163kB 55.6MB/s eta 0:00:01\r\u001b[K     |█████▍                          | 174kB 55.6MB/s eta 0:00:01\r\u001b[K     |█████▊                          | 184kB 55.6MB/s eta 0:00:01\r\u001b[K     |██████                          | 194kB 55.6MB/s eta 0:00:01\r\u001b[K     |██████▎                         | 204kB 55.6MB/s eta 0:00:01\r\u001b[K     |██████▋                         | 215kB 55.6MB/s eta 0:00:01\r\u001b[K     |███████                         | 225kB 55.6MB/s eta 0:00:01\r\u001b[K     |███████▎                        | 235kB 55.6MB/s eta 0:00:01\r\u001b[K     |███████▋                        | 245kB 55.6MB/s eta 0:00:01\r\u001b[K     |███████▉                        | 256kB 55.6MB/s eta 0:00:01\r\u001b[K     |████████▏                       | 266kB 55.6MB/s eta 0:00:01\r\u001b[K     |████████▌                       | 276kB 55.6MB/s eta 0:00:01\r\u001b[K     |████████▉                       | 286kB 55.6MB/s eta 0:00:01\r\u001b[K     |█████████▏                      | 296kB 55.6MB/s eta 0:00:01\r\u001b[K     |█████████▌                      | 307kB 55.6MB/s eta 0:00:01\r\u001b[K     |█████████▊                      | 317kB 55.6MB/s eta 0:00:01\r\u001b[K     |██████████                      | 327kB 55.6MB/s eta 0:00:01\r\u001b[K     |██████████▍                     | 337kB 55.6MB/s eta 0:00:01\r\u001b[K     |██████████▊                     | 348kB 55.6MB/s eta 0:00:01\r\u001b[K     |███████████                     | 358kB 55.6MB/s eta 0:00:01\r\u001b[K     |███████████▍                    | 368kB 55.6MB/s eta 0:00:01\r\u001b[K     |███████████▋                    | 378kB 55.6MB/s eta 0:00:01\r\u001b[K     |████████████                    | 389kB 55.6MB/s eta 0:00:01\r\u001b[K     |████████████▎                   | 399kB 55.6MB/s eta 0:00:01\r\u001b[K     |████████████▋                   | 409kB 55.6MB/s eta 0:00:01\r\u001b[K     |█████████████                   | 419kB 55.6MB/s eta 0:00:01\r\u001b[K     |█████████████▎                  | 430kB 55.6MB/s eta 0:00:01\r\u001b[K     |█████████████▌                  | 440kB 55.6MB/s eta 0:00:01\r\u001b[K     |█████████████▉                  | 450kB 55.6MB/s eta 0:00:01\r\u001b[K     |██████████████▏                 | 460kB 55.6MB/s eta 0:00:01\r\u001b[K     |██████████████▌                 | 471kB 55.6MB/s eta 0:00:01\r\u001b[K     |██████████████▉                 | 481kB 55.6MB/s eta 0:00:01\r\u001b[K     |███████████████▏                | 491kB 55.6MB/s eta 0:00:01\r\u001b[K     |███████████████▍                | 501kB 55.6MB/s eta 0:00:01\r\u001b[K     |███████████████▊                | 512kB 55.6MB/s eta 0:00:01\r\u001b[K     |████████████████                | 522kB 55.6MB/s eta 0:00:01\r\u001b[K     |████████████████▍               | 532kB 55.6MB/s eta 0:00:01\r\u001b[K     |████████████████▊               | 542kB 55.6MB/s eta 0:00:01\r\u001b[K     |█████████████████               | 552kB 55.6MB/s eta 0:00:01\r\u001b[K     |█████████████████▎              | 563kB 55.6MB/s eta 0:00:01\r\u001b[K     |█████████████████▋              | 573kB 55.6MB/s eta 0:00:01\r\u001b[K     |██████████████████              | 583kB 55.6MB/s eta 0:00:01\r\u001b[K     |██████████████████▎             | 593kB 55.6MB/s eta 0:00:01\r\u001b[K     |██████████████████▋             | 604kB 55.6MB/s eta 0:00:01\r\u001b[K     |███████████████████             | 614kB 55.6MB/s eta 0:00:01\r\u001b[K     |███████████████████▏            | 624kB 55.6MB/s eta 0:00:01\r\u001b[K     |███████████████████▌            | 634kB 55.6MB/s eta 0:00:01\r\u001b[K     |███████████████████▉            | 645kB 55.6MB/s eta 0:00:01\r\u001b[K     |████████████████████▏           | 655kB 55.6MB/s eta 0:00:01\r\u001b[K     |████████████████████▌           | 665kB 55.6MB/s eta 0:00:01\r\u001b[K     |████████████████████▉           | 675kB 55.6MB/s eta 0:00:01\r\u001b[K     |█████████████████████▏          | 686kB 55.6MB/s eta 0:00:01\r\u001b[K     |█████████████████████▍          | 696kB 55.6MB/s eta 0:00:01\r\u001b[K     |█████████████████████▊          | 706kB 55.6MB/s eta 0:00:01\r\u001b[K     |██████████████████████          | 716kB 55.6MB/s eta 0:00:01\r\u001b[K     |██████████████████████▍         | 727kB 55.6MB/s eta 0:00:01\r\u001b[K     |██████████████████████▊         | 737kB 55.6MB/s eta 0:00:01\r\u001b[K     |███████████████████████         | 747kB 55.6MB/s eta 0:00:01\r\u001b[K     |███████████████████████▎        | 757kB 55.6MB/s eta 0:00:01\r\u001b[K     |███████████████████████▋        | 768kB 55.6MB/s eta 0:00:01\r\u001b[K     |████████████████████████        | 778kB 55.6MB/s eta 0:00:01\r\u001b[K     |████████████████████████▎       | 788kB 55.6MB/s eta 0:00:01\r\u001b[K     |████████████████████████▋       | 798kB 55.6MB/s eta 0:00:01\r\u001b[K     |█████████████████████████       | 808kB 55.6MB/s eta 0:00:01\r\u001b[K     |█████████████████████████▏      | 819kB 55.6MB/s eta 0:00:01\r\u001b[K     |█████████████████████████▌      | 829kB 55.6MB/s eta 0:00:01\r\u001b[K     |█████████████████████████▉      | 839kB 55.6MB/s eta 0:00:01\r\u001b[K     |██████████████████████████▏     | 849kB 55.6MB/s eta 0:00:01\r\u001b[K     |██████████████████████████▌     | 860kB 55.6MB/s eta 0:00:01\r\u001b[K     |██████████████████████████▉     | 870kB 55.6MB/s eta 0:00:01\r\u001b[K     |███████████████████████████     | 880kB 55.6MB/s eta 0:00:01\r\u001b[K     |███████████████████████████▍    | 890kB 55.6MB/s eta 0:00:01\r\u001b[K     |███████████████████████████▊    | 901kB 55.6MB/s eta 0:00:01\r\u001b[K     |████████████████████████████    | 911kB 55.6MB/s eta 0:00:01\r\u001b[K     |████████████████████████████▍   | 921kB 55.6MB/s eta 0:00:01\r\u001b[K     |████████████████████████████▊   | 931kB 55.6MB/s eta 0:00:01\r\u001b[K     |█████████████████████████████   | 942kB 55.6MB/s eta 0:00:01\r\u001b[K     |█████████████████████████████▎  | 952kB 55.6MB/s eta 0:00:01\r\u001b[K     |█████████████████████████████▋  | 962kB 55.6MB/s eta 0:00:01\r\u001b[K     |██████████████████████████████  | 972kB 55.6MB/s eta 0:00:01\r\u001b[K     |██████████████████████████████▎ | 983kB 55.6MB/s eta 0:00:01\r\u001b[K     |██████████████████████████████▋ | 993kB 55.6MB/s eta 0:00:01\r\u001b[K     |██████████████████████████████▉ | 1.0MB 55.6MB/s eta 0:00:01\r\u001b[K     |███████████████████████████████▏| 1.0MB 55.6MB/s eta 0:00:01\r\u001b[K     |███████████████████████████████▌| 1.0MB 55.6MB/s eta 0:00:01\r\u001b[K     |███████████████████████████████▉| 1.0MB 55.6MB/s eta 0:00:01\r\u001b[K     |████████████████████████████████| 1.0MB 55.6MB/s \n",
            "\u001b[?25hCollecting sacremoses\n",
            "\u001b[?25l  Downloading https://files.pythonhosted.org/packages/a6/b4/7a41d630547a4afd58143597d5a49e07bfd4c42914d8335b2a5657efc14b/sacremoses-0.0.38.tar.gz (860kB)\n",
            "\r\u001b[K     |▍                               | 10kB 27.0MB/s eta 0:00:01\r\u001b[K     |▊                               | 20kB 32.5MB/s eta 0:00:01\r\u001b[K     |█▏                              | 30kB 40.2MB/s eta 0:00:01\r\u001b[K     |█▌                              | 40kB 46.3MB/s eta 0:00:01\r\u001b[K     |██                              | 51kB 49.5MB/s eta 0:00:01\r\u001b[K     |██▎                             | 61kB 53.2MB/s eta 0:00:01\r\u001b[K     |██▋                             | 71kB 53.7MB/s eta 0:00:01\r\u001b[K     |███                             | 81kB 54.4MB/s eta 0:00:01\r\u001b[K     |███▍                            | 92kB 53.5MB/s eta 0:00:01\r\u001b[K     |███▉                            | 102kB 54.4MB/s eta 0:00:01\r\u001b[K     |████▏                           | 112kB 54.4MB/s eta 0:00:01\r\u001b[K     |████▋                           | 122kB 54.4MB/s eta 0:00:01\r\u001b[K     |█████                           | 133kB 54.4MB/s eta 0:00:01\r\u001b[K     |█████▎                          | 143kB 54.4MB/s eta 0:00:01\r\u001b[K     |█████▊                          | 153kB 54.4MB/s eta 0:00:01\r\u001b[K     |██████                          | 163kB 54.4MB/s eta 0:00:01\r\u001b[K     |██████▌                         | 174kB 54.4MB/s eta 0:00:01\r\u001b[K     |██████▉                         | 184kB 54.4MB/s eta 0:00:01\r\u001b[K     |███████▎                        | 194kB 54.4MB/s eta 0:00:01\r\u001b[K     |███████▋                        | 204kB 54.4MB/s eta 0:00:01\r\u001b[K     |████████                        | 215kB 54.4MB/s eta 0:00:01\r\u001b[K     |████████▍                       | 225kB 54.4MB/s eta 0:00:01\r\u001b[K     |████████▊                       | 235kB 54.4MB/s eta 0:00:01\r\u001b[K     |█████████▏                      | 245kB 54.4MB/s eta 0:00:01\r\u001b[K     |█████████▌                      | 256kB 54.4MB/s eta 0:00:01\r\u001b[K     |██████████                      | 266kB 54.4MB/s eta 0:00:01\r\u001b[K     |██████████▎                     | 276kB 54.4MB/s eta 0:00:01\r\u001b[K     |██████████▋                     | 286kB 54.4MB/s eta 0:00:01\r\u001b[K     |███████████                     | 296kB 54.4MB/s eta 0:00:01\r\u001b[K     |███████████▍                    | 307kB 54.4MB/s eta 0:00:01\r\u001b[K     |███████████▉                    | 317kB 54.4MB/s eta 0:00:01\r\u001b[K     |████████████▏                   | 327kB 54.4MB/s eta 0:00:01\r\u001b[K     |████████████▋                   | 337kB 54.4MB/s eta 0:00:01\r\u001b[K     |█████████████                   | 348kB 54.4MB/s eta 0:00:01\r\u001b[K     |█████████████▎                  | 358kB 54.4MB/s eta 0:00:01\r\u001b[K     |█████████████▊                  | 368kB 54.4MB/s eta 0:00:01\r\u001b[K     |██████████████                  | 378kB 54.4MB/s eta 0:00:01\r\u001b[K     |██████████████▌                 | 389kB 54.4MB/s eta 0:00:01\r\u001b[K     |██████████████▉                 | 399kB 54.4MB/s eta 0:00:01\r\u001b[K     |███████████████▎                | 409kB 54.4MB/s eta 0:00:01\r\u001b[K     |███████████████▋                | 419kB 54.4MB/s eta 0:00:01\r\u001b[K     |████████████████                | 430kB 54.4MB/s eta 0:00:01\r\u001b[K     |████████████████▍               | 440kB 54.4MB/s eta 0:00:01\r\u001b[K     |████████████████▊               | 450kB 54.4MB/s eta 0:00:01\r\u001b[K     |█████████████████▏              | 460kB 54.4MB/s eta 0:00:01\r\u001b[K     |█████████████████▌              | 471kB 54.4MB/s eta 0:00:01\r\u001b[K     |██████████████████              | 481kB 54.4MB/s eta 0:00:01\r\u001b[K     |██████████████████▎             | 491kB 54.4MB/s eta 0:00:01\r\u001b[K     |██████████████████▋             | 501kB 54.4MB/s eta 0:00:01\r\u001b[K     |███████████████████             | 512kB 54.4MB/s eta 0:00:01\r\u001b[K     |███████████████████▍            | 522kB 54.4MB/s eta 0:00:01\r\u001b[K     |███████████████████▉            | 532kB 54.4MB/s eta 0:00:01\r\u001b[K     |████████████████████▏           | 542kB 54.4MB/s eta 0:00:01\r\u001b[K     |████████████████████▋           | 552kB 54.4MB/s eta 0:00:01\r\u001b[K     |█████████████████████           | 563kB 54.4MB/s eta 0:00:01\r\u001b[K     |█████████████████████▎          | 573kB 54.4MB/s eta 0:00:01\r\u001b[K     |█████████████████████▊          | 583kB 54.4MB/s eta 0:00:01\r\u001b[K     |██████████████████████          | 593kB 54.4MB/s eta 0:00:01\r\u001b[K     |██████████████████████▌         | 604kB 54.4MB/s eta 0:00:01\r\u001b[K     |██████████████████████▉         | 614kB 54.4MB/s eta 0:00:01\r\u001b[K     |███████████████████████▏        | 624kB 54.4MB/s eta 0:00:01\r\u001b[K     |███████████████████████▋        | 634kB 54.4MB/s eta 0:00:01\r\u001b[K     |████████████████████████        | 645kB 54.4MB/s eta 0:00:01\r\u001b[K     |████████████████████████▍       | 655kB 54.4MB/s eta 0:00:01\r\u001b[K     |████████████████████████▊       | 665kB 54.4MB/s eta 0:00:01\r\u001b[K     |█████████████████████████▏      | 675kB 54.4MB/s eta 0:00:01\r\u001b[K     |█████████████████████████▌      | 686kB 54.4MB/s eta 0:00:01\r\u001b[K     |█████████████████████████▉      | 696kB 54.4MB/s eta 0:00:01\r\u001b[K     |██████████████████████████▎     | 706kB 54.4MB/s eta 0:00:01\r\u001b[K     |██████████████████████████▋     | 716kB 54.4MB/s eta 0:00:01\r\u001b[K     |███████████████████████████     | 727kB 54.4MB/s eta 0:00:01\r\u001b[K     |███████████████████████████▍    | 737kB 54.4MB/s eta 0:00:01\r\u001b[K     |███████████████████████████▉    | 747kB 54.4MB/s eta 0:00:01\r\u001b[K     |████████████████████████████▏   | 757kB 54.4MB/s eta 0:00:01\r\u001b[K     |████████████████████████████▌   | 768kB 54.4MB/s eta 0:00:01\r\u001b[K     |█████████████████████████████   | 778kB 54.4MB/s eta 0:00:01\r\u001b[K     |█████████████████████████████▎  | 788kB 54.4MB/s eta 0:00:01\r\u001b[K     |█████████████████████████████▊  | 798kB 54.4MB/s eta 0:00:01\r\u001b[K     |██████████████████████████████  | 808kB 54.4MB/s eta 0:00:01\r\u001b[K     |██████████████████████████████▌ | 819kB 54.4MB/s eta 0:00:01\r\u001b[K     |██████████████████████████████▉ | 829kB 54.4MB/s eta 0:00:01\r\u001b[K     |███████████████████████████████▏| 839kB 54.4MB/s eta 0:00:01\r\u001b[K     |███████████████████████████████▋| 849kB 54.4MB/s eta 0:00:01\r\u001b[K     |████████████████████████████████| 860kB 54.4MB/s eta 0:00:01\r\u001b[K     |████████████████████████████████| 870kB 54.4MB/s \n",
            "\u001b[?25hRequirement already satisfied, skipping upgrade: boto3 in /usr/local/lib/python3.6/dist-packages (from transformers==2.3.0->sentence-transformers) (1.11.15)\n",
            "Requirement already satisfied, skipping upgrade: requests in /usr/local/lib/python3.6/dist-packages (from transformers==2.3.0->sentence-transformers) (2.21.0)\n",
            "Requirement already satisfied, skipping upgrade: joblib>=0.11 in /usr/local/lib/python3.6/dist-packages (from scikit-learn->sentence-transformers) (0.14.1)\n",
            "Requirement already satisfied, skipping upgrade: six in /usr/local/lib/python3.6/dist-packages (from nltk->sentence-transformers) (1.12.0)\n",
            "Requirement already satisfied, skipping upgrade: click in /usr/local/lib/python3.6/dist-packages (from sacremoses->transformers==2.3.0->sentence-transformers) (7.0)\n",
            "Requirement already satisfied, skipping upgrade: jmespath<1.0.0,>=0.7.1 in /usr/local/lib/python3.6/dist-packages (from boto3->transformers==2.3.0->sentence-transformers) (0.9.4)\n",
            "Requirement already satisfied, skipping upgrade: s3transfer<0.4.0,>=0.3.0 in /usr/local/lib/python3.6/dist-packages (from boto3->transformers==2.3.0->sentence-transformers) (0.3.3)\n",
            "Requirement already satisfied, skipping upgrade: botocore<1.15.0,>=1.14.15 in /usr/local/lib/python3.6/dist-packages (from boto3->transformers==2.3.0->sentence-transformers) (1.14.15)\n",
            "Requirement already satisfied, skipping upgrade: chardet<3.1.0,>=3.0.2 in /usr/local/lib/python3.6/dist-packages (from requests->transformers==2.3.0->sentence-transformers) (3.0.4)\n",
            "Requirement already satisfied, skipping upgrade: certifi>=2017.4.17 in /usr/local/lib/python3.6/dist-packages (from requests->transformers==2.3.0->sentence-transformers) (2019.11.28)\n",
            "Requirement already satisfied, skipping upgrade: idna<2.9,>=2.5 in /usr/local/lib/python3.6/dist-packages (from requests->transformers==2.3.0->sentence-transformers) (2.8)\n",
            "Requirement already satisfied, skipping upgrade: urllib3<1.25,>=1.21.1 in /usr/local/lib/python3.6/dist-packages (from requests->transformers==2.3.0->sentence-transformers) (1.24.3)\n",
            "Requirement already satisfied, skipping upgrade: python-dateutil<3.0.0,>=2.1 in /usr/local/lib/python3.6/dist-packages (from botocore<1.15.0,>=1.14.15->boto3->transformers==2.3.0->sentence-transformers) (2.6.1)\n",
            "Requirement already satisfied, skipping upgrade: docutils<0.16,>=0.10 in /usr/local/lib/python3.6/dist-packages (from botocore<1.15.0,>=1.14.15->boto3->transformers==2.3.0->sentence-transformers) (0.15.2)\n",
            "Building wheels for collected packages: sentence-transformers, sacremoses\n",
            "  Building wheel for sentence-transformers (setup.py) ... \u001b[?25l\u001b[?25hdone\n",
            "  Created wheel for sentence-transformers: filename=sentence_transformers-0.2.5-cp36-none-any.whl size=64942 sha256=3e21da4bb632e84c3647ad8124a8b9118e059985a2138c07ee24f59359d0b9c7\n",
            "  Stored in directory: /root/.cache/pip/wheels/b4/ce/39/5bbda8ac34eb52df8c6531382ca077773fbfcbfb6386e5d66c\n",
            "  Building wheel for sacremoses (setup.py) ... \u001b[?25l\u001b[?25hdone\n",
            "  Created wheel for sacremoses: filename=sacremoses-0.0.38-cp36-none-any.whl size=884628 sha256=86340425a9fe66f43b113eab8f5fddcce15d00ff64bfe023ad7a43816e10e294\n",
            "  Stored in directory: /root/.cache/pip/wheels/6d/ec/1a/21b8912e35e02741306f35f66c785f3afe94de754a0eaf1422\n",
            "Successfully built sentence-transformers sacremoses\n",
            "Installing collected packages: sentencepiece, sacremoses, transformers, sentence-transformers\n",
            "Successfully installed sacremoses-0.0.38 sentence-transformers-0.2.5 sentencepiece-0.1.85 transformers-2.3.0\n"
          ],
          "name": "stdout"
        }
      ]
    },
    {
      "cell_type": "code",
      "metadata": {
        "id": "kwCPXJLxd27_",
        "colab_type": "code",
        "colab": {
          "base_uri": "https://localhost:8080/",
          "height": 882
        },
        "outputId": "34bfd476-d9da-459a-b1ef-c11000905816"
      },
      "source": [
        "from sentence_transformers import SentenceTransformer\n",
        "model = SentenceTransformer('bert-base-nli-mean-tokens')"
      ],
      "execution_count": 5,
      "outputs": [
        {
          "output_type": "stream",
          "text": [
            "02/21/2020 06:38:07 - INFO - transformers.file_utils -   PyTorch version 1.4.0 available.\n"
          ],
          "name": "stdout"
        },
        {
          "output_type": "display_data",
          "data": {
            "text/html": [
              "<p style=\"color: red;\">\n",
              "The default version of TensorFlow in Colab will soon switch to TensorFlow 2.x.<br>\n",
              "We recommend you <a href=\"https://www.tensorflow.org/guide/migrate\" target=\"_blank\">upgrade</a> now \n",
              "or ensure your notebook will continue to use TensorFlow 1.x via the <code>%tensorflow_version 1.x</code> magic:\n",
              "<a href=\"https://colab.research.google.com/notebooks/tensorflow_version.ipynb\" target=\"_blank\">more info</a>.</p>\n"
            ],
            "text/plain": [
              "<IPython.core.display.HTML object>"
            ]
          },
          "metadata": {
            "tags": []
          }
        },
        {
          "output_type": "stream",
          "text": [
            "02/21/2020 06:38:09 - INFO - root -   Load pretrained SentenceTransformer: bert-base-nli-mean-tokens\n",
            "02/21/2020 06:38:09 - INFO - root -   Did not find a / or \\ in the name. Assume to download model from server\n",
            "02/21/2020 06:38:09 - INFO - root -   Downloading sentence transformer model from https://public.ukp.informatik.tu-darmstadt.de/reimers/sentence-transformers/v0.2/bert-base-nli-mean-tokens.zip and saving it at /root/.cache/torch/sentence_transformers/public.ukp.informatik.tu-darmstadt.de_reimers_sentence-transformers_v0.2_bert-base-nli-mean-tokens.zip\n"
          ],
          "name": "stdout"
        },
        {
          "output_type": "stream",
          "text": [
            "100%|██████████| 405M/405M [00:53<00:00, 7.63MB/s]\n"
          ],
          "name": "stderr"
        },
        {
          "output_type": "stream",
          "text": [
            "02/21/2020 06:39:08 - INFO - root -   Load SentenceTransformer from folder: /root/.cache/torch/sentence_transformers/public.ukp.informatik.tu-darmstadt.de_reimers_sentence-transformers_v0.2_bert-base-nli-mean-tokens.zip\n",
            "02/21/2020 06:39:08 - INFO - transformers.configuration_utils -   loading configuration file /root/.cache/torch/sentence_transformers/public.ukp.informatik.tu-darmstadt.de_reimers_sentence-transformers_v0.2_bert-base-nli-mean-tokens.zip/0_BERT/config.json\n",
            "02/21/2020 06:39:08 - INFO - transformers.configuration_utils -   Model config {\n",
            "  \"attention_probs_dropout_prob\": 0.1,\n",
            "  \"finetuning_task\": null,\n",
            "  \"hidden_act\": \"gelu\",\n",
            "  \"hidden_dropout_prob\": 0.1,\n",
            "  \"hidden_size\": 768,\n",
            "  \"id2label\": {\n",
            "    \"0\": \"LABEL_0\",\n",
            "    \"1\": \"LABEL_1\"\n",
            "  },\n",
            "  \"initializer_range\": 0.02,\n",
            "  \"intermediate_size\": 3072,\n",
            "  \"is_decoder\": false,\n",
            "  \"label2id\": {\n",
            "    \"LABEL_0\": 0,\n",
            "    \"LABEL_1\": 1\n",
            "  },\n",
            "  \"layer_norm_eps\": 1e-12,\n",
            "  \"max_position_embeddings\": 512,\n",
            "  \"num_attention_heads\": 12,\n",
            "  \"num_hidden_layers\": 12,\n",
            "  \"num_labels\": 2,\n",
            "  \"output_attentions\": false,\n",
            "  \"output_hidden_states\": false,\n",
            "  \"output_past\": true,\n",
            "  \"pruned_heads\": {},\n",
            "  \"torchscript\": false,\n",
            "  \"type_vocab_size\": 2,\n",
            "  \"use_bfloat16\": false,\n",
            "  \"vocab_size\": 30522\n",
            "}\n",
            "\n",
            "02/21/2020 06:39:08 - INFO - transformers.modeling_utils -   loading weights file /root/.cache/torch/sentence_transformers/public.ukp.informatik.tu-darmstadt.de_reimers_sentence-transformers_v0.2_bert-base-nli-mean-tokens.zip/0_BERT/pytorch_model.bin\n",
            "02/21/2020 06:39:10 - INFO - transformers.tokenization_utils -   Model name '/root/.cache/torch/sentence_transformers/public.ukp.informatik.tu-darmstadt.de_reimers_sentence-transformers_v0.2_bert-base-nli-mean-tokens.zip/0_BERT' not found in model shortcut name list (bert-base-uncased, bert-large-uncased, bert-base-cased, bert-large-cased, bert-base-multilingual-uncased, bert-base-multilingual-cased, bert-base-chinese, bert-base-german-cased, bert-large-uncased-whole-word-masking, bert-large-cased-whole-word-masking, bert-large-uncased-whole-word-masking-finetuned-squad, bert-large-cased-whole-word-masking-finetuned-squad, bert-base-cased-finetuned-mrpc, bert-base-german-dbmdz-cased, bert-base-german-dbmdz-uncased, bert-base-finnish-cased-v1, bert-base-finnish-uncased-v1). Assuming '/root/.cache/torch/sentence_transformers/public.ukp.informatik.tu-darmstadt.de_reimers_sentence-transformers_v0.2_bert-base-nli-mean-tokens.zip/0_BERT' is a path or url to a directory containing tokenizer files.\n",
            "02/21/2020 06:39:10 - INFO - transformers.tokenization_utils -   Didn't find file /root/.cache/torch/sentence_transformers/public.ukp.informatik.tu-darmstadt.de_reimers_sentence-transformers_v0.2_bert-base-nli-mean-tokens.zip/0_BERT/tokenizer_config.json. We won't load it.\n",
            "02/21/2020 06:39:10 - INFO - transformers.tokenization_utils -   loading file /root/.cache/torch/sentence_transformers/public.ukp.informatik.tu-darmstadt.de_reimers_sentence-transformers_v0.2_bert-base-nli-mean-tokens.zip/0_BERT/vocab.txt\n",
            "02/21/2020 06:39:10 - INFO - transformers.tokenization_utils -   loading file /root/.cache/torch/sentence_transformers/public.ukp.informatik.tu-darmstadt.de_reimers_sentence-transformers_v0.2_bert-base-nli-mean-tokens.zip/0_BERT/added_tokens.json\n",
            "02/21/2020 06:39:10 - INFO - transformers.tokenization_utils -   loading file /root/.cache/torch/sentence_transformers/public.ukp.informatik.tu-darmstadt.de_reimers_sentence-transformers_v0.2_bert-base-nli-mean-tokens.zip/0_BERT/special_tokens_map.json\n",
            "02/21/2020 06:39:10 - INFO - transformers.tokenization_utils -   loading file None\n",
            "02/21/2020 06:39:10 - INFO - root -   Use pytorch device: cuda\n"
          ],
          "name": "stdout"
        }
      ]
    },
    {
      "cell_type": "code",
      "metadata": {
        "id": "RkUlF62veJT6",
        "colab_type": "code",
        "colab": {
          "base_uri": "https://localhost:8080/",
          "height": 34
        },
        "outputId": "b80ba6c6-bddd-4cce-a1e4-a5c99bcadf5f"
      },
      "source": [
        "sentences = ['This framework generates embeddings for each input sentence',\n",
        "    'Sentences are passed as a list of string.', \n",
        "    'The quick brown fox jumps over the lazy dog.']\n",
        "sentence_embeddings = model.encode(sentences)"
      ],
      "execution_count": 6,
      "outputs": [
        {
          "output_type": "stream",
          "text": [
            "Batches: 100%|██████████| 1/1 [00:00<00:00,  4.63it/s]\n"
          ],
          "name": "stderr"
        }
      ]
    },
    {
      "cell_type": "code",
      "metadata": {
        "id": "9d3LUV0ceOEg",
        "colab_type": "code",
        "colab": {
          "base_uri": "https://localhost:8080/",
          "height": 170
        },
        "outputId": "899b4137-9793-4775-f92b-d91e1d5e4841"
      },
      "source": [
        "for sentence, embedding in zip(sentences, sentence_embeddings):\n",
        "    print(\"Sentence:\", sentence)\n",
        "    print(\"Embedding:\", embedding)\n",
        "    print(\"\")"
      ],
      "execution_count": 7,
      "outputs": [
        {
          "output_type": "stream",
          "text": [
            "Sentence: This framework generates embeddings for each input sentence\n",
            "Embedding: [-0.104095  0.527477  1.179773  0.194366 ...  0.423094 -0.433891 -0.694523  0.538693]\n",
            "\n",
            "Sentence: Sentences are passed as a list of string.\n",
            "Embedding: [-0.131184 -0.173903  1.105219  0.248542 ...  0.429733  0.026244 -0.002698  0.916111]\n",
            "\n",
            "Sentence: The quick brown fox jumps over the lazy dog.\n",
            "Embedding: [-0.748993  0.718918 -1.039457  0.064088 ... -0.394301  0.155826  1.020251  0.097904]\n",
            "\n"
          ],
          "name": "stdout"
        }
      ]
    }
  ]
}